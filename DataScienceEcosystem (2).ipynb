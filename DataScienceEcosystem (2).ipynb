{
 "cells": [
  {
   "cell_type": "markdown",
   "id": "14bb76f7-d0ae-47b4-8ba8-7f5fd496c6b6",
   "metadata": {},
   "source": [
    "# Data Science Tools and Ecosystem"
   ]
  },
  {
   "cell_type": "markdown",
   "id": "92664934-8e56-49a6-802c-4cae71e2243a",
   "metadata": {},
   "source": [
    "In this notebook, Data Science Tools and Ecosystem are summarized."
   ]
  },
  {
   "cell_type": "markdown",
   "id": "f25a9702-5f5d-47f8-86cd-b195adc4577f",
   "metadata": {
    "tags": []
   },
   "source": [
    "Some of the popular languages that Data Scientists use are: \n",
    "1. R\n",
    "2. Python\n",
    "3. JAVA"
   ]
  },
  {
   "cell_type": "markdown",
   "id": "141e97d5-f8d4-4311-ac15-4847a52d9d6f",
   "metadata": {
    "tags": []
   },
   "source": [
    "Some of the commonly used libraries used by Data Scientists include:\n",
    "1. Pandas\n",
    "2. Plotly\n",
    "3. Seaborn"
   ]
  },
  {
   "cell_type": "markdown",
   "id": "87801edc-e996-4599-a767-56c8730a91d0",
   "metadata": {
    "tags": []
   },
   "source": [
    "|Data Science Tools|\n",
    "|------------------|\n",
    "|RStudio|\n",
    "|Apache Hadoop|\n",
    "|TensorFlow|"
   ]
  },
  {
   "cell_type": "markdown",
   "id": "b51d3c6a-4035-4f61-b443-58faba58d221",
   "metadata": {},
   "source": [
    "### Below are a few examples of evaluating arithmetic expressions in Python.\n",
    "Addition (+)\n",
    "Subtraction (-)\n",
    "Multiplication (*)\n",
    "Division (/)"
   ]
  },
  {
   "cell_type": "code",
   "execution_count": 5,
   "id": "4bcac171-9775-44ed-8169-48ccf94e7bb6",
   "metadata": {
    "tags": []
   },
   "outputs": [
    {
     "data": {
      "text/plain": [
       "17"
      ]
     },
     "execution_count": 5,
     "metadata": {},
     "output_type": "execute_result"
    }
   ],
   "source": [
    "#This a simple arithmetic expression to mutiply then add integers\n",
    "(3*4)+5"
   ]
  },
  {
   "cell_type": "code",
   "execution_count": 6,
   "id": "52d81731-2d1f-4b4b-b42d-d20742ba6f9b",
   "metadata": {
    "tags": []
   },
   "outputs": [
    {
     "data": {
      "text/plain": [
       "3.3333333333333335"
      ]
     },
     "execution_count": 6,
     "metadata": {},
     "output_type": "execute_result"
    }
   ],
   "source": [
    "#This will convert 200 minutes to hours by diving by 60\n",
    "200/60"
   ]
  },
  {
   "cell_type": "markdown",
   "id": "b2415c84-5866-4ca9-ae0d-ea11920c515d",
   "metadata": {
    "tags": []
   },
   "source": [
    "__Objectives:__\n",
    "\n",
    "- List arithmetic expression in Python \n",
    "- List Data science libaries\n",
    "- List Data science tools\n",
    "- a code to convert minutes to hours"
   ]
  },
  {
   "cell_type": "markdown",
   "id": "3cde27a0-f833-4103-9a36-a23c965ba877",
   "metadata": {},
   "source": [
    "## Author\n",
    "Mehdi Alfalouji"
   ]
  },
  {
   "cell_type": "code",
   "execution_count": null,
   "id": "3f0ee426-b1a1-4c77-bd39-b3d7f814fb6c",
   "metadata": {},
   "outputs": [],
   "source": []
  }
 ],
 "metadata": {
  "kernelspec": {
   "display_name": "Python",
   "language": "python",
   "name": "conda-env-python-py"
  },
  "language_info": {
   "codemirror_mode": {
    "name": "ipython",
    "version": 3
   },
   "file_extension": ".py",
   "mimetype": "text/x-python",
   "name": "python",
   "nbconvert_exporter": "python",
   "pygments_lexer": "ipython3",
   "version": "3.7.12"
  }
 },
 "nbformat": 4,
 "nbformat_minor": 5
}
